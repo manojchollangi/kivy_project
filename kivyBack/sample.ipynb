{
 "cells": [
  {
   "cell_type": "code",
   "execution_count": 1,
   "metadata": {},
   "outputs": [],
   "source": [
    "num= int(input(\"Enter a number:\"))\n",
    "if num <= 0:\n",
    "    print(\"Please give a valid input\")\n",
    "else:\n",
    "    for i in range(1,num):\n",
    "        if num==2 or num==1:\n",
    "            print(f\"{num} is prime number\")\n",
    "        if num==1:\n",
    "            print(f)\n",
    "        if (num % i )== 0:\n",
    "            print(f\"{num} is not a prime number\")\n",
    "            break \n",
    "    else:    \n",
    "        print(f\"{num} is a prime number\")"
   ]
  }
 ],
 "metadata": {
  "kernelspec": {
   "display_name": "base",
   "language": "python",
   "name": "python3"
  },
  "language_info": {
   "codemirror_mode": {
    "name": "ipython",
    "version": 3
   },
   "file_extension": ".py",
   "mimetype": "text/x-python",
   "name": "python",
   "nbconvert_exporter": "python",
   "pygments_lexer": "ipython3",
   "version": "3.11.4"
  }
 },
 "nbformat": 4,
 "nbformat_minor": 2
}
